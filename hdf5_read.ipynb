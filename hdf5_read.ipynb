{
 "cells": [
  {
   "cell_type": "code",
   "execution_count": 1,
   "metadata": {},
   "outputs": [],
   "source": [
    "# h5ファイルをnumpy.array形式で読み出して、c++用のコードに変換する\n",
    "# 2018/8/1 haruta"
   ]
  },
  {
   "cell_type": "code",
   "execution_count": 7,
   "metadata": {},
   "outputs": [],
   "source": [
    "# 定義\n",
    "filename = 'model_0811_haruta2.h5' # h5ファイル名\n",
    "\n",
    "# それぞれの保管パス\n",
    "w1 = 'model_weights/dense_1/dense_1/kernel:0'\n",
    "w2 = 'model_weights/dense_2/dense_2/kernel:0'\n",
    "w3 = 'model_weights/dense_3/dense_3/kernel:0'\n",
    "\n",
    "b1 = 'model_weights/dense_1/dense_1/bias:0'\n",
    "b2 = 'model_weights/dense_2/dense_2/bias:0'\n",
    "b3 = 'model_weights/dense_3/dense_3/bias:0'\n",
    "\n",
    "# 保存先のフォルダ名\n",
    "savefolder = 'weights_txt/'\n",
    "\n",
    "import h5py    \n",
    "import numpy as np\n",
    "np.set_printoptions(threshold=np.inf)\n",
    "f1 = h5py.File(filename,'r+')  "
   ]
  },
  {
   "cell_type": "code",
   "execution_count": 3,
   "metadata": {},
   "outputs": [],
   "source": [
    "# メモ用\n"
   ]
  },
  {
   "cell_type": "code",
   "execution_count": 5,
   "metadata": {},
   "outputs": [
    {
     "name": "stdout",
     "output_type": "stream",
     "text": [
      "Keys1: model_weights\n",
      "Keys2: ['activation_1', 'activation_2', 'activation_3', 'dense_1', 'dense_2', 'dense_3', 'dropout_1', 'dropout_2']\n",
      "Keys3: ['dense_1']\n",
      "address: model_weights/dense_1/dense_1/kernel:0\n"
     ]
    }
   ],
   "source": [
    "# アドレス\n",
    "# List all groups\n",
    "a_group_key1 = list(f1.keys())[0] # ここで0なら通常model_weightsが出力される\n",
    "print(\"Keys1: %s\" % a_group_key1)\n",
    "\n",
    "# Get the data\n",
    "a_group_key2 = list(f1[a_group_key1]) # この中からdense_XX, dense_XX+1, dense_XX+2が該当する\n",
    "print(\"Keys2: %s\" % a_group_key2)\n",
    "\n",
    "# Get the data\n",
    "# この中からdense_XX, dense_XX+1, dense_XX+2が該当する\n",
    "a_group_key3 = list(f1[a_group_key1 + '/dense_1']) \n",
    "print(\"Keys3: %s\" % a_group_key3)\n",
    "\n",
    "key3 = '/dense_1' # dense_XX ~ dense_XX+2 のどれかを入れる\n",
    "\n",
    "address = a_group_key1 + '/dense_1' + '/dense_1'+ '/kernel:0' # kernel:0もしくはbias:0\n",
    "print(\"address: %s\" % address)\n",
    "value = list(f1[address]) \n",
    "#len(value)"
   ]
  },
  {
   "cell_type": "code",
   "execution_count": 8,
   "metadata": {},
   "outputs": [
    {
     "name": "stdout",
     "output_type": "stream",
     "text": [
      "OK\n"
     ]
    }
   ],
   "source": [
    "# それぞれの変数をnp.array形式で抽出\n",
    "w1_values = np.array(f1[w1]).astype(\"float32\")\n",
    "w2_values = np.array(f1[w2]).astype(\"float32\")\n",
    "w3_values = np.array(f1[w3]).astype(\"float32\")\n",
    "\n",
    "b1_values = np.array(f1[b1]).astype(\"float32\")\n",
    "b2_values = np.array(f1[b2]).astype(\"float32\")\n",
    "b3_values = np.array(f1[b3]).astype(\"float32\")\n",
    "\n",
    "print('OK')"
   ]
  },
  {
   "cell_type": "code",
   "execution_count": 9,
   "metadata": {},
   "outputs": [
    {
     "name": "stdout",
     "output_type": "stream",
     "text": [
      "(516, 380)\n",
      "(380, 257)\n",
      "(257, 129)\n",
      "(380,)\n",
      "(257,)\n",
      "(129,)\n"
     ]
    }
   ],
   "source": [
    "print(w1_values.shape) #これで(516,380)だったら転置する\n",
    "print(w2_values.shape)\n",
    "print(w3_values.shape)\n",
    "print(b1_values.shape)\n",
    "print(b2_values.shape)\n",
    "print(b3_values.shape)"
   ]
  },
  {
   "cell_type": "code",
   "execution_count": 10,
   "metadata": {},
   "outputs": [],
   "source": [
    "w1_values_tp = np.transpose(w1_values)\n",
    "w1_values_tp.shape #これで(380,516)になれば良い\n",
    "w2_values_tp = np.transpose(w2_values)\n",
    "w3_values_tp = np.transpose(w3_values)"
   ]
  },
  {
   "cell_type": "code",
   "execution_count": 11,
   "metadata": {},
   "outputs": [],
   "source": [
    "def savetxt(savefolder, txtname, data,varname):\n",
    "    '''「savefolder」フォルダに、ファイル名「txtname」で、変数dataを{{1行目},{2行目},...}の形式で書き込む。\n",
    "    （この形式だとC++にコピペした時に同じ変数配列として扱われる。）varnameはC++で使用したい変数名なので、\n",
    "    変数名[行数][列数]の形式でかく'''\n",
    "    savepath = savefolder + txtname\n",
    "    with open(savepath, \"w\") as f:\n",
    "        print(varname +'='+np.array2string(data, separator=', ', formatter={'float_kind': lambda x: '{: .10f}'.format(x)}).replace('\\n','').replace('[','{').replace(']','}')+';',file=f,end='')\n",
    "    return 1\n"
   ]
  },
  {
   "cell_type": "code",
   "execution_count": 12,
   "metadata": {},
   "outputs": [
    {
     "name": "stdout",
     "output_type": "stream",
     "text": [
      "OK\n"
     ]
    }
   ],
   "source": [
    "#テキスト保存\n",
    "savetxt(savefolder, 'w1.txt', w1_values_tp,'W1_before[380][516]')\n",
    "savetxt(savefolder, 'w2.txt', w2_values_tp,'W2_before[257][380]')\n",
    "savetxt(savefolder, 'w3.txt', w3_values_tp,'W3_before[129][257]')\n",
    "\n",
    "savetxt(savefolder, 'b1.txt', b1_values,'b1_before[380]')\n",
    "savetxt(savefolder, 'b2.txt', b2_values,'b2_before[257]')\n",
    "savetxt(savefolder, 'b3.txt', b3_values,'b3_before[129]')\n",
    "print('OK')"
   ]
  },
  {
   "cell_type": "code",
   "execution_count": 116,
   "metadata": {},
   "outputs": [
    {
     "name": "stdout",
     "output_type": "stream",
     "text": [
      "[ 0.36844915 -0.33617136 -0.4528113  -0.467853    0.19404523]\n",
      "[ 0.13534664 -0.14093459 -0.40718347  0.22906736  0.20009875]\n",
      "[ 0.06111534 -0.02756482  0.06526674  0.22819003  0.08436346]\n",
      "\n",
      "[-0.02649925 -0.01293557 -0.00613426  0.00122955  0.00497521]\n",
      "[ 0.00260683 -0.04817585 -0.00885866  0.02250442 -0.05931728]\n",
      "[-3.5303118  -1.651823   -0.27213216  1.364964    2.2860272 ]\n"
     ]
    }
   ],
   "source": [
    "print(w1_values_tp[0,0:5])\n",
    "print(w2_values_tp[0,0:5])\n",
    "print(w3_values_tp[0,0:5])\n",
    "print('')\n",
    "print(b1_values[0:5])\n",
    "print(b2_values[0:5])\n",
    "print(b3_values[0:5])"
   ]
  },
  {
   "cell_type": "code",
   "execution_count": 58,
   "metadata": {},
   "outputs": [],
   "source": [
    "# \n",
    "# --------------------------------------------------------------------------------------\n",
    "# 以下、確認用(実行しなくても動作には影響ない)　コード間違っている可能性あり"
   ]
  },
  {
   "cell_type": "code",
   "execution_count": 79,
   "metadata": {},
   "outputs": [
    {
     "ename": "SyntaxError",
     "evalue": "unexpected character after line continuation character (<ipython-input-79-e102730b9b4b>, line 2)",
     "output_type": "error",
     "traceback": [
      "\u001b[1;36m  File \u001b[1;32m\"<ipython-input-79-e102730b9b4b>\"\u001b[1;36m, line \u001b[1;32m2\u001b[0m\n\u001b[1;33m    'W1_before[516][380] = ' + str(b1_values).replace('\\n','').replace(\"'\",\"\") + \";\" + \\n\u001b[0m\n\u001b[1;37m                                                                                          ^\u001b[0m\n\u001b[1;31mSyntaxError\u001b[0m\u001b[1;31m:\u001b[0m unexpected character after line continuation character\n"
     ]
    }
   ],
   "source": [
    "data_code = ...\n",
    "'W1_before[516][380] = ' + str(b1_values).replace('\\n','') + \";\" + '\\n' +...\n",
    "'W1_before[380][257] = ' + str(b1_values).replace('\\n','')+ \";\" + '\\n' +...\n",
    "'W1_before[257][129] = ' + str(b1_values).replace('\\n','') + \";\" + '\\n'"
   ]
  },
  {
   "cell_type": "code",
   "execution_count": 9,
   "metadata": {},
   "outputs": [
    {
     "ename": "NameError",
     "evalue": "name 'group_list' is not defined",
     "output_type": "error",
     "traceback": [
      "\u001b[0;31m---------------------------------------------------------------------------\u001b[0m",
      "\u001b[0;31mNameError\u001b[0m                                 Traceback (most recent call last)",
      "\u001b[0;32m<ipython-input-9-0f294f1cc867>\u001b[0m in \u001b[0;36m<module>\u001b[0;34m()\u001b[0m\n\u001b[1;32m      1\u001b[0m \u001b[0;31m# この結果が'model_weights'であることを確認する。違ったらインデックス変える\u001b[0m\u001b[0;34m\u001b[0m\u001b[0;34m\u001b[0m\u001b[0m\n\u001b[0;32m----> 2\u001b[0;31m \u001b[0ma_group_key\u001b[0m \u001b[0;34m=\u001b[0m \u001b[0mlist\u001b[0m\u001b[0;34m(\u001b[0m\u001b[0mf1\u001b[0m\u001b[0;34m.\u001b[0m\u001b[0mkeys\u001b[0m\u001b[0;34m(\u001b[0m\u001b[0;34m)\u001b[0m\u001b[0;34m)\u001b[0m\u001b[0;34m[\u001b[0m\u001b[0mgroup_list\u001b[0m\u001b[0;34m]\u001b[0m\u001b[0;34m\u001b[0m\u001b[0m\n\u001b[0m\u001b[1;32m      3\u001b[0m \u001b[0mprint\u001b[0m\u001b[0;34m(\u001b[0m\u001b[0ma_group_key\u001b[0m\u001b[0;34m)\u001b[0m\u001b[0;34m\u001b[0m\u001b[0m\n",
      "\u001b[0;31mNameError\u001b[0m: name 'group_list' is not defined"
     ]
    }
   ],
   "source": [
    "# この結果が'model_weights'であることを確認する。違ったらインデックス変える\n",
    "a_group_key = list(f1.keys())[group_list]\n",
    "print(a_group_key)"
   ]
  },
  {
   "cell_type": "code",
   "execution_count": 3,
   "metadata": {},
   "outputs": [],
   "source": [
    "# インデックス 初期値で問題なければ変えない\n",
    "group_list=0\n",
    "var_list = 0"
   ]
  },
  {
   "cell_type": "code",
   "execution_count": 36,
   "metadata": {
    "collapsed": true
   },
   "outputs": [
    {
     "name": "stdout",
     "output_type": "stream",
     "text": [
      "['activation_7' 'activation_8' 'activation_9' 'batch_normalization_5'\n",
      " 'batch_normalization_6' 'dense_7' 'dense_8' 'dense_9' 'dropout_3']\n"
     ]
    }
   ],
   "source": [
    "var = np.array(list(list(f1.values()))[0])\n",
    "print(var)"
   ]
  },
  {
   "cell_type": "code",
   "execution_count": 6,
   "metadata": {
    "collapsed": true
   },
   "outputs": [
    {
     "data": {
      "text/plain": [
       "array(['activation_7', 'activation_8', 'activation_9',\n",
       "       'batch_normalization_5', 'batch_normalization_6', 'dense_7',\n",
       "       'dense_8', 'dense_9', 'dropout_3'],\n",
       "      dtype='<U21')"
      ]
     },
     "execution_count": 6,
     "metadata": {},
     "output_type": "execute_result"
    }
   ],
   "source": [
    "# 確認用に表示\n",
    "np.array(list(list(f1.values()))[group_list])"
   ]
  },
  {
   "cell_type": "code",
   "execution_count": 5,
   "metadata": {},
   "outputs": [
    {
     "data": {
      "text/plain": [
       "['model_weights', 'optimizer_weights']"
      ]
     },
     "execution_count": 5,
     "metadata": {},
     "output_type": "execute_result"
    }
   ],
   "source": [
    "list(f1.keys())"
   ]
  },
  {
   "cell_type": "code",
   "execution_count": null,
   "metadata": {},
   "outputs": [],
   "source": []
  },
  {
   "cell_type": "code",
   "execution_count": null,
   "metadata": {},
   "outputs": [],
   "source": []
  },
  {
   "cell_type": "code",
   "execution_count": null,
   "metadata": {},
   "outputs": [],
   "source": []
  },
  {
   "cell_type": "code",
   "execution_count": null,
   "metadata": {},
   "outputs": [],
   "source": []
  },
  {
   "cell_type": "code",
   "execution_count": null,
   "metadata": {},
   "outputs": [],
   "source": []
  },
  {
   "cell_type": "code",
   "execution_count": null,
   "metadata": {},
   "outputs": [],
   "source": []
  },
  {
   "cell_type": "code",
   "execution_count": null,
   "metadata": {},
   "outputs": [],
   "source": []
  },
  {
   "cell_type": "code",
   "execution_count": null,
   "metadata": {},
   "outputs": [],
   "source": []
  },
  {
   "cell_type": "code",
   "execution_count": null,
   "metadata": {},
   "outputs": [],
   "source": []
  }
 ],
 "metadata": {
  "kernelspec": {
   "display_name": "Python 3",
   "language": "python",
   "name": "python3"
  },
  "language_info": {
   "codemirror_mode": {
    "name": "ipython",
    "version": 3
   },
   "file_extension": ".py",
   "mimetype": "text/x-python",
   "name": "python",
   "nbconvert_exporter": "python",
   "pygments_lexer": "ipython3",
   "version": "3.5.2"
  }
 },
 "nbformat": 4,
 "nbformat_minor": 2
}
